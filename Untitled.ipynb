{
 "cells": [
  {
   "cell_type": "code",
   "execution_count": 1,
   "id": "41b6af81",
   "metadata": {},
   "outputs": [],
   "source": [
    "from my_functions import *\n"
   ]
  },
  {
   "cell_type": "code",
   "execution_count": 2,
   "id": "befe9f3a",
   "metadata": {},
   "outputs": [],
   "source": [
    "x, y = load_data(\"data/student-mat.csv\")"
   ]
  },
  {
   "cell_type": "code",
   "execution_count": 14,
   "id": "d20fe7da",
   "metadata": {},
   "outputs": [
    {
     "ename": "TypeError",
     "evalue": "new_student() missing 1 required positional argument: 'x'",
     "output_type": "error",
     "traceback": [
      "\u001b[1;31m---------------------------------------------------------------------------\u001b[0m",
      "\u001b[1;31mTypeError\u001b[0m                                 Traceback (most recent call last)",
      "\u001b[1;32m~\\AppData\\Local\\Temp/ipykernel_9460/4178599124.py\u001b[0m in \u001b[0;36m<module>\u001b[1;34m\u001b[0m\n\u001b[1;32m----> 1\u001b[1;33m \u001b[0mlorenzo\u001b[0m \u001b[1;33m=\u001b[0m \u001b[0mnew_student\u001b[0m\u001b[1;33m(\u001b[0m\u001b[1;33m)\u001b[0m\u001b[1;33m\u001b[0m\u001b[1;33m\u001b[0m\u001b[0m\n\u001b[0m",
      "\u001b[1;31mTypeError\u001b[0m: new_student() missing 1 required positional argument: 'x'"
     ]
    }
   ],
   "source": [
    "lorenzo = new_student()"
   ]
  },
  {
   "cell_type": "code",
   "execution_count": 4,
   "id": "9a6caa64",
   "metadata": {},
   "outputs": [
    {
     "data": {
      "text/html": [
       "<div>\n",
       "<style scoped>\n",
       "    .dataframe tbody tr th:only-of-type {\n",
       "        vertical-align: middle;\n",
       "    }\n",
       "\n",
       "    .dataframe tbody tr th {\n",
       "        vertical-align: top;\n",
       "    }\n",
       "\n",
       "    .dataframe thead th {\n",
       "        text-align: right;\n",
       "    }\n",
       "</style>\n",
       "<table border=\"1\" class=\"dataframe\">\n",
       "  <thead>\n",
       "    <tr style=\"text-align: right;\">\n",
       "      <th></th>\n",
       "      <th>school</th>\n",
       "      <th>sex</th>\n",
       "      <th>age</th>\n",
       "      <th>Mjob</th>\n",
       "      <th>Fjob</th>\n",
       "      <th>higher</th>\n",
       "      <th>activities</th>\n",
       "      <th>G1</th>\n",
       "      <th>G2</th>\n",
       "    </tr>\n",
       "  </thead>\n",
       "  <tbody>\n",
       "    <tr>\n",
       "      <th>0</th>\n",
       "      <td>GP</td>\n",
       "      <td>M</td>\n",
       "      <td>25</td>\n",
       "      <td>at_home</td>\n",
       "      <td>at_home</td>\n",
       "      <td>yes</td>\n",
       "      <td>yes</td>\n",
       "      <td>20</td>\n",
       "      <td>20</td>\n",
       "    </tr>\n",
       "  </tbody>\n",
       "</table>\n",
       "</div>"
      ],
      "text/plain": [
       "  school sex  age     Mjob     Fjob higher activities  G1  G2\n",
       "0     GP   M   25  at_home  at_home    yes        yes  20  20"
      ]
     },
     "execution_count": 4,
     "metadata": {},
     "output_type": "execute_result"
    }
   ],
   "source": [
    "lorenzo"
   ]
  },
  {
   "cell_type": "code",
   "execution_count": 7,
   "id": "3d49551a",
   "metadata": {},
   "outputs": [
    {
     "data": {
      "text/plain": [
       "pandas.core.frame.DataFrame"
      ]
     },
     "execution_count": 7,
     "metadata": {},
     "output_type": "execute_result"
    }
   ],
   "source": [
    "type(lorenzo)"
   ]
  },
  {
   "cell_type": "code",
   "execution_count": 12,
   "id": "5b3f4621",
   "metadata": {},
   "outputs": [
    {
     "data": {
      "text/plain": [
       "True"
      ]
     },
     "execution_count": 12,
     "metadata": {},
     "output_type": "execute_result"
    }
   ],
   "source": [
    "(lorenzo[\"school\"] == \"GP\").any()"
   ]
  },
  {
   "cell_type": "code",
   "execution_count": 13,
   "id": "37d03c56",
   "metadata": {},
   "outputs": [
    {
     "data": {
      "text/plain": [
       "0    True\n",
       "Name: school, dtype: bool"
      ]
     },
     "execution_count": 13,
     "metadata": {},
     "output_type": "execute_result"
    }
   ],
   "source": [
    "lorenzo[\"school\"] == \"GP\""
   ]
  },
  {
   "cell_type": "code",
   "execution_count": 16,
   "id": "9566e973",
   "metadata": {},
   "outputs": [
    {
     "name": "stdout",
     "output_type": "stream",
     "text": [
      "Please write the school of a student (['GP' 'MS']): GP\n",
      "Please write the sex of a student (['F' 'M']): F\n",
      "Please write the age of a student (from 15 to 25): 15\n",
      "Please write the Mjob of a student (['at_home' 'health' 'other' 'services' 'teacher']): health\n",
      "Please write the Fjob of a student (['teacher' 'other' 'services' 'health' 'at_home']): health\n",
      "Please write the higher of a student (['yes' 'no']): yes\n",
      "Please write the activities of a student (['no' 'yes']): yes\n",
      "Please write the G1 of a student (from 0 to 20): 20\n",
      "Please write the G2 of a student (from 0 to 20): 02\n",
      "\n",
      "\n",
      "Please write the school of a student (['GP' 'MS']): GP\n",
      "Please write the sex of a student (['F' 'M']): F\n",
      "Please write the age of a student (from 15 to 25): 19\n",
      "Please write the Mjob of a student (['at_home' 'health' 'other' 'services' 'teacher']): health\n",
      "Please write the Fjob of a student (['teacher' 'other' 'services' 'health' 'at_home']): teahce\n",
      "Invalid feature! Please try again!\n",
      "Please write the Fjob of a student (['teacher' 'other' 'services' 'health' 'at_home']): teacher\n",
      "Please write the higher of a student (['yes' 'no']): yes\n",
      "Please write the activities of a student (['no' 'yes']): yes\n",
      "Please write the G1 of a student (from 0 to 20): 20\n",
      "Please write the G2 of a student (from 0 to 20): 20\n"
     ]
    },
    {
     "data": {
      "text/plain": [
       "False"
      ]
     },
     "execution_count": 16,
     "metadata": {},
     "output_type": "execute_result"
    }
   ],
   "source": [
    "lorenzo = new_student(x)\n",
    "print(\"\\n\")\n",
    "alessandro = new_student(x)\n",
    "\n",
    "lorenzo.equals(alessandro)"
   ]
  },
  {
   "cell_type": "code",
   "execution_count": 17,
   "id": "822c7dbb",
   "metadata": {},
   "outputs": [
    {
     "data": {
      "text/plain": [
       "True"
      ]
     },
     "execution_count": 17,
     "metadata": {},
     "output_type": "execute_result"
    }
   ],
   "source": [
    "b = False\n",
    "b == False"
   ]
  },
  {
   "cell_type": "code",
   "execution_count": null,
   "id": "ab5a649e",
   "metadata": {},
   "outputs": [],
   "source": []
  }
 ],
 "metadata": {
  "kernelspec": {
   "display_name": "Python 3 (ipykernel)",
   "language": "python",
   "name": "python3"
  },
  "language_info": {
   "codemirror_mode": {
    "name": "ipython",
    "version": 3
   },
   "file_extension": ".py",
   "mimetype": "text/x-python",
   "name": "python",
   "nbconvert_exporter": "python",
   "pygments_lexer": "ipython3",
   "version": "3.9.7"
  }
 },
 "nbformat": 4,
 "nbformat_minor": 5
}
