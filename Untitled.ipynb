{
 "cells": [
  {
   "cell_type": "code",
   "execution_count": 1,
   "id": "41b6af81",
   "metadata": {},
   "outputs": [],
   "source": [
    "from my_functions import *\n"
   ]
  },
  {
   "cell_type": "code",
   "execution_count": 23,
   "id": "befe9f3a",
   "metadata": {},
   "outputs": [],
   "source": [
    "x, y = load_data(\"data/student-mat.csv\")\n"
   ]
  },
  {
   "cell_type": "code",
   "execution_count": 24,
   "id": "d20fe7da",
   "metadata": {},
   "outputs": [
    {
     "name": "stdout",
     "output_type": "stream",
     "text": [
      "Please write the school of a student (['GP' 'MS']): GP\n",
      "Please write the sex of a student (['F' 'M']): M\n",
      "Please write the age of a student (from 15 to 25): 25\n",
      "Please write the Mjob of a student (['at_home' 'health' 'other' 'services' 'teacher']): at_home\n",
      "Please write the Fjob of a student (['teacher' 'other' 'services' 'health' 'at_home']): health\n",
      "Please write the higher of a student (['yes' 'no']): ye\n",
      "Invalid feature! Please try again!\n",
      "Please write the higher of a student (['yes' 'no']): yes\n",
      "Please write the activities of a student (['no' 'yes']): yes\n",
      "Please write the G1 of a student (from 0 to 20): 20\n",
      "Please write the G2 of a student (from 0 to 20): 20\n"
     ]
    }
   ],
   "source": [
    "lorenzo = new_student(x)"
   ]
  },
  {
   "cell_type": "code",
   "execution_count": 25,
   "id": "9a6caa64",
   "metadata": {},
   "outputs": [
    {
     "data": {
      "text/html": [
       "<div>\n",
       "<style scoped>\n",
       "    .dataframe tbody tr th:only-of-type {\n",
       "        vertical-align: middle;\n",
       "    }\n",
       "\n",
       "    .dataframe tbody tr th {\n",
       "        vertical-align: top;\n",
       "    }\n",
       "\n",
       "    .dataframe thead th {\n",
       "        text-align: right;\n",
       "    }\n",
       "</style>\n",
       "<table border=\"1\" class=\"dataframe\">\n",
       "  <thead>\n",
       "    <tr style=\"text-align: right;\">\n",
       "      <th></th>\n",
       "      <th>school</th>\n",
       "      <th>sex</th>\n",
       "      <th>age</th>\n",
       "      <th>Mjob</th>\n",
       "      <th>Fjob</th>\n",
       "      <th>higher</th>\n",
       "      <th>activities</th>\n",
       "      <th>G1</th>\n",
       "      <th>G2</th>\n",
       "    </tr>\n",
       "  </thead>\n",
       "  <tbody>\n",
       "    <tr>\n",
       "      <th>0</th>\n",
       "      <td>GP</td>\n",
       "      <td>M</td>\n",
       "      <td>25</td>\n",
       "      <td>at_home</td>\n",
       "      <td>health</td>\n",
       "      <td>yes</td>\n",
       "      <td>yes</td>\n",
       "      <td>20</td>\n",
       "      <td>20</td>\n",
       "    </tr>\n",
       "  </tbody>\n",
       "</table>\n",
       "</div>"
      ],
      "text/plain": [
       "  school sex  age     Mjob    Fjob higher activities  G1  G2\n",
       "0     GP   M   25  at_home  health    yes        yes  20  20"
      ]
     },
     "execution_count": 25,
     "metadata": {},
     "output_type": "execute_result"
    }
   ],
   "source": [
    "lorenzo"
   ]
  },
  {
   "cell_type": "code",
   "execution_count": 26,
   "id": "3d49551a",
   "metadata": {},
   "outputs": [
    {
     "data": {
      "text/plain": [
       "True"
      ]
     },
     "execution_count": 26,
     "metadata": {},
     "output_type": "execute_result"
    }
   ],
   "source": [
    "(lorenzo[\"school\"] == \"GP\").any()"
   ]
  },
  {
   "cell_type": "code",
   "execution_count": 27,
   "id": "5b3f4621",
   "metadata": {},
   "outputs": [
    {
     "name": "stderr",
     "output_type": "stream",
     "text": [
      "C:\\Users\\Admin\\anaconda3\\lib\\site-packages\\pandas\\core\\indexing.py:1951: SettingWithCopyWarning: \n",
      "A value is trying to be set on a copy of a slice from a DataFrame.\n",
      "Try using .loc[row_indexer,col_indexer] = value instead\n",
      "\n",
      "See the caveats in the documentation: https://pandas.pydata.org/pandas-docs/stable/user_guide/indexing.html#returning-a-view-versus-a-copy\n",
      "  self.obj[selected_item_labels] = value\n"
     ]
    },
    {
     "data": {
      "text/plain": [
       "school         0\n",
       "sex            1\n",
       "age           25\n",
       "higher         1\n",
       "activities     1\n",
       "G1            20\n",
       "G2            20\n",
       "m_at_home      1\n",
       "m_health       0\n",
       "m_other        0\n",
       "m_services     0\n",
       "m_teacher      0\n",
       "f_at_home      0\n",
       "f_health       1\n",
       "f_other        0\n",
       "f_services     0\n",
       "f_teacher      0\n",
       "Name: 0, dtype: int64"
      ]
     },
     "execution_count": 27,
     "metadata": {},
     "output_type": "execute_result"
    }
   ],
   "source": [
    "lorenzo = dummy_matrix_of_new_student(lorenzo,x)\n",
    "lorenzo"
   ]
  },
  {
   "cell_type": "code",
   "execution_count": 30,
   "id": "37d03c56",
   "metadata": {},
   "outputs": [
    {
     "data": {
      "text/html": [
       "<div>\n",
       "<style scoped>\n",
       "    .dataframe tbody tr th:only-of-type {\n",
       "        vertical-align: middle;\n",
       "    }\n",
       "\n",
       "    .dataframe tbody tr th {\n",
       "        vertical-align: top;\n",
       "    }\n",
       "\n",
       "    .dataframe thead th {\n",
       "        text-align: right;\n",
       "    }\n",
       "</style>\n",
       "<table border=\"1\" class=\"dataframe\">\n",
       "  <thead>\n",
       "    <tr style=\"text-align: right;\">\n",
       "      <th></th>\n",
       "      <th>school</th>\n",
       "      <th>sex</th>\n",
       "      <th>age</th>\n",
       "      <th>Mjob</th>\n",
       "      <th>Fjob</th>\n",
       "      <th>higher</th>\n",
       "      <th>activities</th>\n",
       "      <th>G1</th>\n",
       "      <th>G2</th>\n",
       "    </tr>\n",
       "  </thead>\n",
       "  <tbody>\n",
       "    <tr>\n",
       "      <th>0</th>\n",
       "      <td>Moscow</td>\n",
       "      <td>F</td>\n",
       "      <td>18</td>\n",
       "      <td>teacher</td>\n",
       "      <td>services</td>\n",
       "      <td>no</td>\n",
       "      <td>no</td>\n",
       "      <td>15</td>\n",
       "      <td>13</td>\n",
       "    </tr>\n",
       "    <tr>\n",
       "      <th>1</th>\n",
       "      <td>Moscow</td>\n",
       "      <td>M</td>\n",
       "      <td>20</td>\n",
       "      <td>teacher</td>\n",
       "      <td>other</td>\n",
       "      <td>yes</td>\n",
       "      <td>no</td>\n",
       "      <td>13</td>\n",
       "      <td>6</td>\n",
       "    </tr>\n",
       "    <tr>\n",
       "      <th>2</th>\n",
       "      <td>S.-Petersburg</td>\n",
       "      <td>F</td>\n",
       "      <td>22</td>\n",
       "      <td>at_home</td>\n",
       "      <td>health</td>\n",
       "      <td>no</td>\n",
       "      <td>yes</td>\n",
       "      <td>20</td>\n",
       "      <td>5</td>\n",
       "    </tr>\n",
       "    <tr>\n",
       "      <th>3</th>\n",
       "      <td>S.-Petersburg</td>\n",
       "      <td>F</td>\n",
       "      <td>24</td>\n",
       "      <td>services</td>\n",
       "      <td>teacher</td>\n",
       "      <td>yes</td>\n",
       "      <td>yes</td>\n",
       "      <td>19</td>\n",
       "      <td>5</td>\n",
       "    </tr>\n",
       "    <tr>\n",
       "      <th>4</th>\n",
       "      <td>Zelenograd</td>\n",
       "      <td>M</td>\n",
       "      <td>18</td>\n",
       "      <td>health</td>\n",
       "      <td>other</td>\n",
       "      <td>yes</td>\n",
       "      <td>no</td>\n",
       "      <td>11</td>\n",
       "      <td>14</td>\n",
       "    </tr>\n",
       "    <tr>\n",
       "      <th>5</th>\n",
       "      <td>Zelenograd</td>\n",
       "      <td>F</td>\n",
       "      <td>20</td>\n",
       "      <td>other</td>\n",
       "      <td>services</td>\n",
       "      <td>yes</td>\n",
       "      <td>yes</td>\n",
       "      <td>15</td>\n",
       "      <td>17</td>\n",
       "    </tr>\n",
       "  </tbody>\n",
       "</table>\n",
       "</div>"
      ],
      "text/plain": [
       "          school sex  age      Mjob      Fjob higher activities  G1  G2\n",
       "0         Moscow   F   18   teacher  services     no         no  15  13\n",
       "1         Moscow   M   20   teacher     other    yes         no  13   6\n",
       "2  S.-Petersburg   F   22   at_home    health     no        yes  20   5\n",
       "3  S.-Petersburg   F   24  services   teacher    yes        yes  19   5\n",
       "4     Zelenograd   M   18    health     other    yes         no  11  14\n",
       "5     Zelenograd   F   20     other  services    yes        yes  15  17"
      ]
     },
     "execution_count": 30,
     "metadata": {},
     "output_type": "execute_result"
    }
   ],
   "source": [
    "x, y = load_data(\"test_data/test_data.csv\")\n",
    "x"
   ]
  },
  {
   "cell_type": "code",
   "execution_count": 31,
   "id": "5507e895",
   "metadata": {},
   "outputs": [
    {
     "name": "stderr",
     "output_type": "stream",
     "text": [
      "C:\\Users\\Admin\\anaconda3\\lib\\site-packages\\pandas\\core\\indexing.py:1951: SettingWithCopyWarning: \n",
      "A value is trying to be set on a copy of a slice from a DataFrame.\n",
      "Try using .loc[row_indexer,col_indexer] = value instead\n",
      "\n",
      "See the caveats in the documentation: https://pandas.pydata.org/pandas-docs/stable/user_guide/indexing.html#returning-a-view-versus-a-copy\n",
      "  self.obj[selected_item_labels] = value\n"
     ]
    },
    {
     "data": {
      "text/html": [
       "<div>\n",
       "<style scoped>\n",
       "    .dataframe tbody tr th:only-of-type {\n",
       "        vertical-align: middle;\n",
       "    }\n",
       "\n",
       "    .dataframe tbody tr th {\n",
       "        vertical-align: top;\n",
       "    }\n",
       "\n",
       "    .dataframe thead th {\n",
       "        text-align: right;\n",
       "    }\n",
       "</style>\n",
       "<table border=\"1\" class=\"dataframe\">\n",
       "  <thead>\n",
       "    <tr style=\"text-align: right;\">\n",
       "      <th></th>\n",
       "      <th>sex</th>\n",
       "      <th>age</th>\n",
       "      <th>higher</th>\n",
       "      <th>activities</th>\n",
       "      <th>G1</th>\n",
       "      <th>G2</th>\n",
       "      <th>s_Moscow</th>\n",
       "      <th>s_S.-Petersburg</th>\n",
       "      <th>s_Zelenograd</th>\n",
       "      <th>m_at_home</th>\n",
       "      <th>m_health</th>\n",
       "      <th>m_other</th>\n",
       "      <th>m_services</th>\n",
       "      <th>m_teacher</th>\n",
       "      <th>f_health</th>\n",
       "      <th>f_other</th>\n",
       "      <th>f_services</th>\n",
       "      <th>f_teacher</th>\n",
       "    </tr>\n",
       "  </thead>\n",
       "  <tbody>\n",
       "    <tr>\n",
       "      <th>0</th>\n",
       "      <td>0</td>\n",
       "      <td>18</td>\n",
       "      <td>0</td>\n",
       "      <td>0</td>\n",
       "      <td>15</td>\n",
       "      <td>13</td>\n",
       "      <td>1</td>\n",
       "      <td>0</td>\n",
       "      <td>0</td>\n",
       "      <td>0</td>\n",
       "      <td>0</td>\n",
       "      <td>0</td>\n",
       "      <td>0</td>\n",
       "      <td>1</td>\n",
       "      <td>0</td>\n",
       "      <td>0</td>\n",
       "      <td>1</td>\n",
       "      <td>0</td>\n",
       "    </tr>\n",
       "    <tr>\n",
       "      <th>1</th>\n",
       "      <td>1</td>\n",
       "      <td>20</td>\n",
       "      <td>1</td>\n",
       "      <td>0</td>\n",
       "      <td>13</td>\n",
       "      <td>6</td>\n",
       "      <td>1</td>\n",
       "      <td>0</td>\n",
       "      <td>0</td>\n",
       "      <td>0</td>\n",
       "      <td>0</td>\n",
       "      <td>0</td>\n",
       "      <td>0</td>\n",
       "      <td>1</td>\n",
       "      <td>0</td>\n",
       "      <td>1</td>\n",
       "      <td>0</td>\n",
       "      <td>0</td>\n",
       "    </tr>\n",
       "    <tr>\n",
       "      <th>2</th>\n",
       "      <td>0</td>\n",
       "      <td>22</td>\n",
       "      <td>0</td>\n",
       "      <td>1</td>\n",
       "      <td>20</td>\n",
       "      <td>5</td>\n",
       "      <td>0</td>\n",
       "      <td>1</td>\n",
       "      <td>0</td>\n",
       "      <td>1</td>\n",
       "      <td>0</td>\n",
       "      <td>0</td>\n",
       "      <td>0</td>\n",
       "      <td>0</td>\n",
       "      <td>1</td>\n",
       "      <td>0</td>\n",
       "      <td>0</td>\n",
       "      <td>0</td>\n",
       "    </tr>\n",
       "    <tr>\n",
       "      <th>3</th>\n",
       "      <td>0</td>\n",
       "      <td>24</td>\n",
       "      <td>1</td>\n",
       "      <td>1</td>\n",
       "      <td>19</td>\n",
       "      <td>5</td>\n",
       "      <td>0</td>\n",
       "      <td>1</td>\n",
       "      <td>0</td>\n",
       "      <td>0</td>\n",
       "      <td>0</td>\n",
       "      <td>0</td>\n",
       "      <td>1</td>\n",
       "      <td>0</td>\n",
       "      <td>0</td>\n",
       "      <td>0</td>\n",
       "      <td>0</td>\n",
       "      <td>1</td>\n",
       "    </tr>\n",
       "    <tr>\n",
       "      <th>4</th>\n",
       "      <td>1</td>\n",
       "      <td>18</td>\n",
       "      <td>1</td>\n",
       "      <td>0</td>\n",
       "      <td>11</td>\n",
       "      <td>14</td>\n",
       "      <td>0</td>\n",
       "      <td>0</td>\n",
       "      <td>1</td>\n",
       "      <td>0</td>\n",
       "      <td>1</td>\n",
       "      <td>0</td>\n",
       "      <td>0</td>\n",
       "      <td>0</td>\n",
       "      <td>0</td>\n",
       "      <td>1</td>\n",
       "      <td>0</td>\n",
       "      <td>0</td>\n",
       "    </tr>\n",
       "    <tr>\n",
       "      <th>5</th>\n",
       "      <td>0</td>\n",
       "      <td>20</td>\n",
       "      <td>1</td>\n",
       "      <td>1</td>\n",
       "      <td>15</td>\n",
       "      <td>17</td>\n",
       "      <td>0</td>\n",
       "      <td>0</td>\n",
       "      <td>1</td>\n",
       "      <td>0</td>\n",
       "      <td>0</td>\n",
       "      <td>1</td>\n",
       "      <td>0</td>\n",
       "      <td>0</td>\n",
       "      <td>0</td>\n",
       "      <td>0</td>\n",
       "      <td>1</td>\n",
       "      <td>0</td>\n",
       "    </tr>\n",
       "  </tbody>\n",
       "</table>\n",
       "</div>"
      ],
      "text/plain": [
       "   sex  age  higher  activities  G1  G2  s_Moscow  s_S.-Petersburg  \\\n",
       "0    0   18       0           0  15  13         1                0   \n",
       "1    1   20       1           0  13   6         1                0   \n",
       "2    0   22       0           1  20   5         0                1   \n",
       "3    0   24       1           1  19   5         0                1   \n",
       "4    1   18       1           0  11  14         0                0   \n",
       "5    0   20       1           1  15  17         0                0   \n",
       "\n",
       "   s_Zelenograd  m_at_home  m_health  m_other  m_services  m_teacher  \\\n",
       "0             0          0         0        0           0          1   \n",
       "1             0          0         0        0           0          1   \n",
       "2             0          1         0        0           0          0   \n",
       "3             0          0         0        0           1          0   \n",
       "4             1          0         1        0           0          0   \n",
       "5             1          0         0        1           0          0   \n",
       "\n",
       "   f_health  f_other  f_services  f_teacher  \n",
       "0         0        0           1          0  \n",
       "1         0        1           0          0  \n",
       "2         1        0           0          0  \n",
       "3         0        0           0          1  \n",
       "4         0        1           0          0  \n",
       "5         0        0           1          0  "
      ]
     },
     "execution_count": 31,
     "metadata": {},
     "output_type": "execute_result"
    }
   ],
   "source": [
    "x = dummy_matrices(x)\n",
    "x"
   ]
  },
  {
   "cell_type": "code",
   "execution_count": null,
   "id": "aa51d030",
   "metadata": {},
   "outputs": [],
   "source": [
    "def test_data_with_dummy_matrices_has_no_categorical_features(dummy_data):\n",
    "    \"\"\"\n",
    "    This function tests that after applying dummy_matrices() to data it will not contain\n",
    "    categorical features.\n",
    "    \"\"\"\n",
    "    assert dummy_data.select_dtypes(include = \"object\").shape[1] == 0\n",
    "\n",
    "def test_dummy_matrices_do_not_change_data_with_numeric_values():\n",
    "    \"\"\"\n",
    "    This function tests a limit case when dummy_matrices() does not alter data with numeric features.\n",
    "    \"\"\"\n",
    "    x_num, y_num = load_data(\"test_data/test_data_numeric_features.csv\")\n",
    "    assert dummy_matrices(x_num).equals(x_num)"
   ]
  },
  {
   "cell_type": "code",
   "execution_count": 56,
   "id": "7030f438",
   "metadata": {},
   "outputs": [
    {
     "name": "stdout",
     "output_type": "stream",
     "text": [
      "Please write the school of a student (['Moscow' 'S.-Petersburg' 'Zelenograd']): Moscow\n",
      "Please write the sex of a student (['F' 'M']): M\n",
      "Please write the age of a student (from 15 to 25): 15\n",
      "Please write the Mjob of a student (['teacher' 'at_home' 'services' 'health' 'other']): teacher\n",
      "Please write the Fjob of a student (['services' 'other' 'health' 'teacher']): teacher\n",
      "Please write the higher of a student (['no' 'yes']): ye\n",
      "Invalid feature! Please try again!\n",
      "Please write the higher of a student (['no' 'yes']): no\n",
      "Please write the activities of a student (['no' 'yes']): no\n",
      "Please write the G1 of a student (from 0 to 20): 2\n",
      "Please write the G2 of a student (from 0 to 20): 2\n"
     ]
    }
   ],
   "source": [
    "def test_dummy_matrix_for_new_student_has_no_categorical_features():\n",
    "    \"\"\"\n",
    "    This function tests that after applying dummy_matrix_for_new_student() to a new student's features they will not contain\n",
    "    categorical features.\n",
    "    \"\"\"\n",
    "    x, y = load_data(\"test_data/test_data.csv\")\n",
    "    alex = new_student(x)\n",
    "    alex = dummy_matrix_of_new_student(alex, x)\n",
    "    \n",
    "    #assert alex.select_dtypes(include = \"object\").shape[1] == 0"
   ]
  },
  {
   "cell_type": "code",
   "execution_count": 57,
   "id": "61102dd3",
   "metadata": {},
   "outputs": [
    {
     "data": {
      "text/plain": [
       "pandas.core.frame.DataFrame"
      ]
     },
     "execution_count": 57,
     "metadata": {},
     "output_type": "execute_result"
    }
   ],
   "source": [
    "type(alex)"
   ]
  },
  {
   "cell_type": "code",
   "execution_count": 54,
   "id": "56656c2a",
   "metadata": {},
   "outputs": [],
   "source": [
    "#alex = dummy_matrix_of_new_student(alex, x)"
   ]
  },
  {
   "cell_type": "code",
   "execution_count": 58,
   "id": "d7e9a364",
   "metadata": {},
   "outputs": [
    {
     "data": {
      "text/plain": [
       "pandas.core.frame.DataFrame"
      ]
     },
     "execution_count": 58,
     "metadata": {},
     "output_type": "execute_result"
    }
   ],
   "source": [
    "type(alex)"
   ]
  },
  {
   "cell_type": "code",
   "execution_count": null,
   "id": "5fc082f1",
   "metadata": {},
   "outputs": [],
   "source": []
  },
  {
   "cell_type": "code",
   "execution_count": 59,
   "id": "54751ebc",
   "metadata": {},
   "outputs": [],
   "source": [
    "alex = dummy_matrix_of_new_student(alex, x)"
   ]
  },
  {
   "cell_type": "code",
   "execution_count": 60,
   "id": "caf20d9e",
   "metadata": {},
   "outputs": [
    {
     "data": {
      "text/plain": [
       "pandas.core.series.Series"
      ]
     },
     "execution_count": 60,
     "metadata": {},
     "output_type": "execute_result"
    }
   ],
   "source": [
    "type(alex)"
   ]
  },
  {
   "cell_type": "code",
   "execution_count": 61,
   "id": "b0f5f7f3",
   "metadata": {},
   "outputs": [
    {
     "data": {
      "text/plain": [
       "sex                 1\n",
       "age                15\n",
       "higher              0\n",
       "activities          0\n",
       "G1                  2\n",
       "G2                  2\n",
       "s_Moscow            1\n",
       "s_S.-Petersburg     0\n",
       "s_Zelenograd        0\n",
       "m_at_home           0\n",
       "m_health            0\n",
       "m_other             0\n",
       "m_services          0\n",
       "m_teacher           1\n",
       "f_health            0\n",
       "f_other             0\n",
       "f_services          0\n",
       "f_teacher           1\n",
       "Name: 0, dtype: int64"
      ]
     },
     "execution_count": 61,
     "metadata": {},
     "output_type": "execute_result"
    }
   ],
   "source": [
    "alex = "
   ]
  },
  {
   "cell_type": "code",
   "execution_count": 62,
   "id": "7e7f0053",
   "metadata": {},
   "outputs": [
    {
     "data": {
      "text/plain": [
       "dtype('int64')"
      ]
     },
     "execution_count": 62,
     "metadata": {},
     "output_type": "execute_result"
    }
   ],
   "source": [
    "alex.dtype"
   ]
  },
  {
   "cell_type": "code",
   "execution_count": 63,
   "id": "080393aa",
   "metadata": {},
   "outputs": [
    {
     "data": {
      "text/plain": [
       "True"
      ]
     },
     "execution_count": 63,
     "metadata": {},
     "output_type": "execute_result"
    }
   ],
   "source": [
    "alex.dtype == \"int64\""
   ]
  },
  {
   "cell_type": "code",
   "execution_count": 64,
   "id": "9871ff50",
   "metadata": {},
   "outputs": [
    {
     "name": "stdout",
     "output_type": "stream",
     "text": [
      "Please write the school of a student (['Moscow' 'S.-Petersburg' 'Zelenograd']): 3\n",
      "Invalid feature! Please try again!\n"
     ]
    },
    {
     "ename": "KeyboardInterrupt",
     "evalue": "Interrupted by user",
     "output_type": "error",
     "traceback": [
      "\u001b[1;31m---------------------------------------------------------------------------\u001b[0m",
      "\u001b[1;31mKeyboardInterrupt\u001b[0m                         Traceback (most recent call last)",
      "\u001b[1;32m~\\AppData\\Local\\Temp/ipykernel_9460/2361343286.py\u001b[0m in \u001b[0;36m<module>\u001b[1;34m\u001b[0m\n\u001b[1;32m----> 1\u001b[1;33m \u001b[0mlorenzo\u001b[0m \u001b[1;33m=\u001b[0m \u001b[0mnew_student\u001b[0m\u001b[1;33m(\u001b[0m\u001b[0mx\u001b[0m\u001b[1;33m)\u001b[0m\u001b[1;33m\u001b[0m\u001b[1;33m\u001b[0m\u001b[0m\n\u001b[0m",
      "\u001b[1;32m~\\Desktop\\Project\\my_functions.py\u001b[0m in \u001b[0;36mnew_student\u001b[1;34m(x)\u001b[0m\n\u001b[0;32m    155\u001b[0m             \u001b[1;32mwhile\u001b[0m \u001b[0minp\u001b[0m \u001b[1;32mnot\u001b[0m \u001b[1;32min\u001b[0m \u001b[0mx\u001b[0m\u001b[1;33m[\u001b[0m\u001b[0mcolumn\u001b[0m\u001b[1;33m]\u001b[0m\u001b[1;33m.\u001b[0m\u001b[0munique\u001b[0m\u001b[1;33m(\u001b[0m\u001b[1;33m)\u001b[0m\u001b[1;33m:\u001b[0m\u001b[1;33m\u001b[0m\u001b[1;33m\u001b[0m\u001b[0m\n\u001b[0;32m    156\u001b[0m                 \u001b[0mprint\u001b[0m\u001b[1;33m(\u001b[0m\u001b[1;34m\"Invalid feature! Please try again!\"\u001b[0m\u001b[1;33m)\u001b[0m\u001b[1;33m\u001b[0m\u001b[1;33m\u001b[0m\u001b[0m\n\u001b[1;32m--> 157\u001b[1;33m                 \u001b[0minp\u001b[0m \u001b[1;33m=\u001b[0m \u001b[0minput\u001b[0m\u001b[1;33m(\u001b[0m\u001b[1;34m\"Please write the \"\u001b[0m \u001b[1;33m+\u001b[0m \u001b[0mcolumn\u001b[0m \u001b[1;33m+\u001b[0m \u001b[1;34m\" of a student (\"\u001b[0m \u001b[1;33m+\u001b[0m \u001b[0mstr\u001b[0m\u001b[1;33m(\u001b[0m\u001b[0mx\u001b[0m\u001b[1;33m[\u001b[0m\u001b[0mcolumn\u001b[0m\u001b[1;33m]\u001b[0m\u001b[1;33m.\u001b[0m\u001b[0munique\u001b[0m\u001b[1;33m(\u001b[0m\u001b[1;33m)\u001b[0m\u001b[1;33m)\u001b[0m \u001b[1;33m+\u001b[0m \u001b[1;34m\"): \"\u001b[0m\u001b[1;33m)\u001b[0m\u001b[1;33m\u001b[0m\u001b[1;33m\u001b[0m\u001b[0m\n\u001b[0m\u001b[0;32m    158\u001b[0m \u001b[1;33m\u001b[0m\u001b[0m\n\u001b[0;32m    159\u001b[0m         \u001b[1;32melif\u001b[0m \u001b[0mcolumn\u001b[0m \u001b[1;33m==\u001b[0m \u001b[1;34m\"age\"\u001b[0m\u001b[1;33m:\u001b[0m\u001b[1;33m\u001b[0m\u001b[1;33m\u001b[0m\u001b[0m\n",
      "\u001b[1;32m~\\anaconda3\\lib\\site-packages\\ipykernel\\kernelbase.py\u001b[0m in \u001b[0;36mraw_input\u001b[1;34m(self, prompt)\u001b[0m\n\u001b[0;32m   1004\u001b[0m                 \u001b[1;34m\"raw_input was called, but this frontend does not support input requests.\"\u001b[0m\u001b[1;33m\u001b[0m\u001b[1;33m\u001b[0m\u001b[0m\n\u001b[0;32m   1005\u001b[0m             )\n\u001b[1;32m-> 1006\u001b[1;33m         return self._input_request(\n\u001b[0m\u001b[0;32m   1007\u001b[0m             \u001b[0mstr\u001b[0m\u001b[1;33m(\u001b[0m\u001b[0mprompt\u001b[0m\u001b[1;33m)\u001b[0m\u001b[1;33m,\u001b[0m\u001b[1;33m\u001b[0m\u001b[1;33m\u001b[0m\u001b[0m\n\u001b[0;32m   1008\u001b[0m             \u001b[0mself\u001b[0m\u001b[1;33m.\u001b[0m\u001b[0m_parent_ident\u001b[0m\u001b[1;33m[\u001b[0m\u001b[1;34m\"shell\"\u001b[0m\u001b[1;33m]\u001b[0m\u001b[1;33m,\u001b[0m\u001b[1;33m\u001b[0m\u001b[1;33m\u001b[0m\u001b[0m\n",
      "\u001b[1;32m~\\anaconda3\\lib\\site-packages\\ipykernel\\kernelbase.py\u001b[0m in \u001b[0;36m_input_request\u001b[1;34m(self, prompt, ident, parent, password)\u001b[0m\n\u001b[0;32m   1049\u001b[0m             \u001b[1;32mexcept\u001b[0m \u001b[0mKeyboardInterrupt\u001b[0m\u001b[1;33m:\u001b[0m\u001b[1;33m\u001b[0m\u001b[1;33m\u001b[0m\u001b[0m\n\u001b[0;32m   1050\u001b[0m                 \u001b[1;31m# re-raise KeyboardInterrupt, to truncate traceback\u001b[0m\u001b[1;33m\u001b[0m\u001b[1;33m\u001b[0m\u001b[0m\n\u001b[1;32m-> 1051\u001b[1;33m                 \u001b[1;32mraise\u001b[0m \u001b[0mKeyboardInterrupt\u001b[0m\u001b[1;33m(\u001b[0m\u001b[1;34m\"Interrupted by user\"\u001b[0m\u001b[1;33m)\u001b[0m \u001b[1;32mfrom\u001b[0m \u001b[1;32mNone\u001b[0m\u001b[1;33m\u001b[0m\u001b[1;33m\u001b[0m\u001b[0m\n\u001b[0m\u001b[0;32m   1052\u001b[0m             \u001b[1;32mexcept\u001b[0m \u001b[0mException\u001b[0m\u001b[1;33m:\u001b[0m\u001b[1;33m\u001b[0m\u001b[1;33m\u001b[0m\u001b[0m\n\u001b[0;32m   1053\u001b[0m                 \u001b[0mself\u001b[0m\u001b[1;33m.\u001b[0m\u001b[0mlog\u001b[0m\u001b[1;33m.\u001b[0m\u001b[0mwarning\u001b[0m\u001b[1;33m(\u001b[0m\u001b[1;34m\"Invalid Message:\"\u001b[0m\u001b[1;33m,\u001b[0m \u001b[0mexc_info\u001b[0m\u001b[1;33m=\u001b[0m\u001b[1;32mTrue\u001b[0m\u001b[1;33m)\u001b[0m\u001b[1;33m\u001b[0m\u001b[1;33m\u001b[0m\u001b[0m\n",
      "\u001b[1;31mKeyboardInterrupt\u001b[0m: Interrupted by user"
     ]
    }
   ],
   "source": [
    "lorenzo = new_student(x)"
   ]
  },
  {
   "cell_type": "code",
   "execution_count": null,
   "id": "1775fb30",
   "metadata": {},
   "outputs": [],
   "source": []
  }
 ],
 "metadata": {
  "kernelspec": {
   "display_name": "Python 3 (ipykernel)",
   "language": "python",
   "name": "python3"
  },
  "language_info": {
   "codemirror_mode": {
    "name": "ipython",
    "version": 3
   },
   "file_extension": ".py",
   "mimetype": "text/x-python",
   "name": "python",
   "nbconvert_exporter": "python",
   "pygments_lexer": "ipython3",
   "version": "3.9.7"
  }
 },
 "nbformat": 4,
 "nbformat_minor": 5
}
