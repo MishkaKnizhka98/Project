{
 "cells": [
  {
   "cell_type": "code",
   "execution_count": 120,
   "id": "d4aa91a0",
   "metadata": {},
   "outputs": [],
   "source": [
    "from my_functions import *\n",
    "import pandas as pd\n",
    "import numpy as np\n",
    "from sklearn.linear_model import LinearRegression\n",
    "from sklearn.model_selection import train_test_split"
   ]
  },
  {
   "cell_type": "code",
   "execution_count": 121,
   "id": "e12beb92",
   "metadata": {},
   "outputs": [
    {
     "name": "stderr",
     "output_type": "stream",
     "text": [
      "C:\\Users\\Admin\\Desktop\\Project\\my_functions.py:39: SettingWithCopyWarning: \n",
      "A value is trying to be set on a copy of a slice from a DataFrame.\n",
      "Try using .loc[row_indexer,col_indexer] = value instead\n",
      "\n",
      "See the caveats in the documentation: https://pandas.pydata.org/pandas-docs/stable/user_guide/indexing.html#returning-a-view-versus-a-copy\n",
      "  non_num[column] = non_num[column].apply(lambda x: column[0].lower() + \"_\" + x)\n"
     ]
    }
   ],
   "source": [
    "x, y = load_data(\"data/student-mat.csv\")"
   ]
  },
  {
   "cell_type": "code",
   "execution_count": 122,
   "id": "99e5d20e",
   "metadata": {
    "scrolled": true
   },
   "outputs": [
    {
     "data": {
      "text/html": [
       "<div>\n",
       "<style scoped>\n",
       "    .dataframe tbody tr th:only-of-type {\n",
       "        vertical-align: middle;\n",
       "    }\n",
       "\n",
       "    .dataframe tbody tr th {\n",
       "        vertical-align: top;\n",
       "    }\n",
       "\n",
       "    .dataframe thead th {\n",
       "        text-align: right;\n",
       "    }\n",
       "</style>\n",
       "<table border=\"1\" class=\"dataframe\">\n",
       "  <thead>\n",
       "    <tr style=\"text-align: right;\">\n",
       "      <th></th>\n",
       "      <th>school</th>\n",
       "      <th>sex</th>\n",
       "      <th>age</th>\n",
       "      <th>higher</th>\n",
       "      <th>activities</th>\n",
       "      <th>G1</th>\n",
       "      <th>G2</th>\n",
       "      <th>m_at_home</th>\n",
       "      <th>m_health</th>\n",
       "      <th>m_other</th>\n",
       "      <th>m_services</th>\n",
       "      <th>f_at_home</th>\n",
       "      <th>f_health</th>\n",
       "      <th>f_other</th>\n",
       "      <th>f_services</th>\n",
       "    </tr>\n",
       "  </thead>\n",
       "  <tbody>\n",
       "    <tr>\n",
       "      <th>0</th>\n",
       "      <td>0</td>\n",
       "      <td>0</td>\n",
       "      <td>18</td>\n",
       "      <td>1</td>\n",
       "      <td>0</td>\n",
       "      <td>5</td>\n",
       "      <td>6</td>\n",
       "      <td>1</td>\n",
       "      <td>0</td>\n",
       "      <td>0</td>\n",
       "      <td>0</td>\n",
       "      <td>0</td>\n",
       "      <td>0</td>\n",
       "      <td>0</td>\n",
       "      <td>0</td>\n",
       "    </tr>\n",
       "    <tr>\n",
       "      <th>1</th>\n",
       "      <td>0</td>\n",
       "      <td>0</td>\n",
       "      <td>17</td>\n",
       "      <td>1</td>\n",
       "      <td>0</td>\n",
       "      <td>5</td>\n",
       "      <td>5</td>\n",
       "      <td>1</td>\n",
       "      <td>0</td>\n",
       "      <td>0</td>\n",
       "      <td>0</td>\n",
       "      <td>0</td>\n",
       "      <td>0</td>\n",
       "      <td>1</td>\n",
       "      <td>0</td>\n",
       "    </tr>\n",
       "    <tr>\n",
       "      <th>2</th>\n",
       "      <td>0</td>\n",
       "      <td>0</td>\n",
       "      <td>15</td>\n",
       "      <td>1</td>\n",
       "      <td>0</td>\n",
       "      <td>7</td>\n",
       "      <td>8</td>\n",
       "      <td>1</td>\n",
       "      <td>0</td>\n",
       "      <td>0</td>\n",
       "      <td>0</td>\n",
       "      <td>0</td>\n",
       "      <td>0</td>\n",
       "      <td>1</td>\n",
       "      <td>0</td>\n",
       "    </tr>\n",
       "    <tr>\n",
       "      <th>3</th>\n",
       "      <td>0</td>\n",
       "      <td>0</td>\n",
       "      <td>15</td>\n",
       "      <td>1</td>\n",
       "      <td>1</td>\n",
       "      <td>15</td>\n",
       "      <td>14</td>\n",
       "      <td>0</td>\n",
       "      <td>1</td>\n",
       "      <td>0</td>\n",
       "      <td>0</td>\n",
       "      <td>0</td>\n",
       "      <td>0</td>\n",
       "      <td>0</td>\n",
       "      <td>1</td>\n",
       "    </tr>\n",
       "    <tr>\n",
       "      <th>4</th>\n",
       "      <td>0</td>\n",
       "      <td>0</td>\n",
       "      <td>16</td>\n",
       "      <td>1</td>\n",
       "      <td>0</td>\n",
       "      <td>6</td>\n",
       "      <td>10</td>\n",
       "      <td>0</td>\n",
       "      <td>0</td>\n",
       "      <td>1</td>\n",
       "      <td>0</td>\n",
       "      <td>0</td>\n",
       "      <td>0</td>\n",
       "      <td>1</td>\n",
       "      <td>0</td>\n",
       "    </tr>\n",
       "    <tr>\n",
       "      <th>...</th>\n",
       "      <td>...</td>\n",
       "      <td>...</td>\n",
       "      <td>...</td>\n",
       "      <td>...</td>\n",
       "      <td>...</td>\n",
       "      <td>...</td>\n",
       "      <td>...</td>\n",
       "      <td>...</td>\n",
       "      <td>...</td>\n",
       "      <td>...</td>\n",
       "      <td>...</td>\n",
       "      <td>...</td>\n",
       "      <td>...</td>\n",
       "      <td>...</td>\n",
       "      <td>...</td>\n",
       "    </tr>\n",
       "    <tr>\n",
       "      <th>390</th>\n",
       "      <td>1</td>\n",
       "      <td>1</td>\n",
       "      <td>20</td>\n",
       "      <td>1</td>\n",
       "      <td>0</td>\n",
       "      <td>9</td>\n",
       "      <td>9</td>\n",
       "      <td>0</td>\n",
       "      <td>0</td>\n",
       "      <td>0</td>\n",
       "      <td>1</td>\n",
       "      <td>0</td>\n",
       "      <td>0</td>\n",
       "      <td>0</td>\n",
       "      <td>1</td>\n",
       "    </tr>\n",
       "    <tr>\n",
       "      <th>391</th>\n",
       "      <td>1</td>\n",
       "      <td>1</td>\n",
       "      <td>17</td>\n",
       "      <td>1</td>\n",
       "      <td>0</td>\n",
       "      <td>14</td>\n",
       "      <td>16</td>\n",
       "      <td>0</td>\n",
       "      <td>0</td>\n",
       "      <td>0</td>\n",
       "      <td>1</td>\n",
       "      <td>0</td>\n",
       "      <td>0</td>\n",
       "      <td>0</td>\n",
       "      <td>1</td>\n",
       "    </tr>\n",
       "    <tr>\n",
       "      <th>392</th>\n",
       "      <td>1</td>\n",
       "      <td>1</td>\n",
       "      <td>21</td>\n",
       "      <td>1</td>\n",
       "      <td>0</td>\n",
       "      <td>10</td>\n",
       "      <td>8</td>\n",
       "      <td>0</td>\n",
       "      <td>0</td>\n",
       "      <td>1</td>\n",
       "      <td>0</td>\n",
       "      <td>0</td>\n",
       "      <td>0</td>\n",
       "      <td>1</td>\n",
       "      <td>0</td>\n",
       "    </tr>\n",
       "    <tr>\n",
       "      <th>393</th>\n",
       "      <td>1</td>\n",
       "      <td>1</td>\n",
       "      <td>18</td>\n",
       "      <td>1</td>\n",
       "      <td>0</td>\n",
       "      <td>11</td>\n",
       "      <td>12</td>\n",
       "      <td>0</td>\n",
       "      <td>0</td>\n",
       "      <td>0</td>\n",
       "      <td>1</td>\n",
       "      <td>0</td>\n",
       "      <td>0</td>\n",
       "      <td>1</td>\n",
       "      <td>0</td>\n",
       "    </tr>\n",
       "    <tr>\n",
       "      <th>394</th>\n",
       "      <td>1</td>\n",
       "      <td>1</td>\n",
       "      <td>19</td>\n",
       "      <td>1</td>\n",
       "      <td>0</td>\n",
       "      <td>8</td>\n",
       "      <td>9</td>\n",
       "      <td>0</td>\n",
       "      <td>0</td>\n",
       "      <td>1</td>\n",
       "      <td>0</td>\n",
       "      <td>1</td>\n",
       "      <td>0</td>\n",
       "      <td>0</td>\n",
       "      <td>0</td>\n",
       "    </tr>\n",
       "  </tbody>\n",
       "</table>\n",
       "<p>395 rows × 15 columns</p>\n",
       "</div>"
      ],
      "text/plain": [
       "     school  sex  age  higher  activities  G1  G2  m_at_home  m_health  \\\n",
       "0         0    0   18       1           0   5   6          1         0   \n",
       "1         0    0   17       1           0   5   5          1         0   \n",
       "2         0    0   15       1           0   7   8          1         0   \n",
       "3         0    0   15       1           1  15  14          0         1   \n",
       "4         0    0   16       1           0   6  10          0         0   \n",
       "..      ...  ...  ...     ...         ...  ..  ..        ...       ...   \n",
       "390       1    1   20       1           0   9   9          0         0   \n",
       "391       1    1   17       1           0  14  16          0         0   \n",
       "392       1    1   21       1           0  10   8          0         0   \n",
       "393       1    1   18       1           0  11  12          0         0   \n",
       "394       1    1   19       1           0   8   9          0         0   \n",
       "\n",
       "     m_other  m_services  f_at_home  f_health  f_other  f_services  \n",
       "0          0           0          0         0        0           0  \n",
       "1          0           0          0         0        1           0  \n",
       "2          0           0          0         0        1           0  \n",
       "3          0           0          0         0        0           1  \n",
       "4          1           0          0         0        1           0  \n",
       "..       ...         ...        ...       ...      ...         ...  \n",
       "390        0           1          0         0        0           1  \n",
       "391        0           1          0         0        0           1  \n",
       "392        1           0          0         0        1           0  \n",
       "393        0           1          0         0        1           0  \n",
       "394        1           0          1         0        0           0  \n",
       "\n",
       "[395 rows x 15 columns]"
      ]
     },
     "execution_count": 122,
     "metadata": {},
     "output_type": "execute_result"
    }
   ],
   "source": [
    "x"
   ]
  },
  {
   "cell_type": "code",
   "execution_count": 125,
   "id": "e7ae7439",
   "metadata": {},
   "outputs": [
    {
     "data": {
      "text/plain": [
       "15"
      ]
     },
     "execution_count": 125,
     "metadata": {},
     "output_type": "execute_result"
    }
   ],
   "source": [
    "x[\"age\"].min()"
   ]
  },
  {
   "cell_type": "code",
   "execution_count": 126,
   "id": "e31b9dec",
   "metadata": {},
   "outputs": [
    {
     "data": {
      "text/plain": [
       "dtype('int64')"
      ]
     },
     "execution_count": 126,
     "metadata": {},
     "output_type": "execute_result"
    }
   ],
   "source": [
    "x[\"age\"].dtype"
   ]
  },
  {
   "cell_type": "code",
   "execution_count": 127,
   "id": "749b5789",
   "metadata": {},
   "outputs": [
    {
     "data": {
      "text/plain": [
       "dtype('int32')"
      ]
     },
     "execution_count": 127,
     "metadata": {},
     "output_type": "execute_result"
    }
   ],
   "source": [
    "x[\"sex\"].dtype"
   ]
  },
  {
   "cell_type": "code",
   "execution_count": 99,
   "id": "49ebb358",
   "metadata": {},
   "outputs": [
    {
     "data": {
      "text/plain": [
       "0       6\n",
       "1       6\n",
       "2      10\n",
       "3      15\n",
       "4      10\n",
       "       ..\n",
       "390     9\n",
       "391    16\n",
       "392     7\n",
       "393    10\n",
       "394     9\n",
       "Name: G3, Length: 395, dtype: int64"
      ]
     },
     "execution_count": 99,
     "metadata": {},
     "output_type": "execute_result"
    }
   ],
   "source": [
    "y"
   ]
  },
  {
   "cell_type": "code",
   "execution_count": 100,
   "id": "1eaaba4d",
   "metadata": {},
   "outputs": [],
   "source": [
    "x, y  = pd_to_np(x,y)"
   ]
  },
  {
   "cell_type": "code",
   "execution_count": 101,
   "id": "0c1f0efd",
   "metadata": {},
   "outputs": [
    {
     "data": {
      "text/plain": [
       "array([[ 0.,  0., 18., ...,  0.,  0.,  0.],\n",
       "       [ 0.,  0., 17., ...,  0.,  1.,  0.],\n",
       "       [ 0.,  0., 15., ...,  0.,  1.,  0.],\n",
       "       ...,\n",
       "       [ 1.,  1., 21., ...,  0.,  1.,  0.],\n",
       "       [ 1.,  1., 18., ...,  0.,  1.,  0.],\n",
       "       [ 1.,  1., 19., ...,  0.,  0.,  0.]])"
      ]
     },
     "execution_count": 101,
     "metadata": {},
     "output_type": "execute_result"
    }
   ],
   "source": [
    "x"
   ]
  },
  {
   "cell_type": "code",
   "execution_count": 102,
   "id": "2e4095fa",
   "metadata": {},
   "outputs": [
    {
     "data": {
      "text/plain": [
       "array([ 6.,  6., 10., 15., 10., 15., 11.,  6., 19., 15.,  9., 12., 14.,\n",
       "       11., 16., 14., 14., 10.,  5., 10., 15., 15., 16., 12.,  8.,  8.,\n",
       "       11., 15., 11., 11., 12., 17., 16., 12., 15.,  6., 18., 15., 11.,\n",
       "       13., 11., 12., 18., 11.,  9.,  6., 11., 20., 14.,  7., 13., 13.,\n",
       "       10., 11., 13., 10., 15., 15.,  9., 16., 11., 11.,  9.,  9., 10.,\n",
       "       15., 12.,  6.,  8., 16., 15., 10.,  5., 14., 11., 10., 10., 11.,\n",
       "       10.,  5., 12., 11.,  6., 15., 10.,  8.,  6., 14., 10.,  7.,  8.,\n",
       "       18.,  6., 10., 14., 10., 15., 10., 14.,  8.,  5., 17., 14.,  6.,\n",
       "       18., 11.,  8., 18., 13., 16., 19., 10., 13., 19.,  9., 16., 14.,\n",
       "       13.,  8., 13., 15., 15., 13., 13.,  8., 12., 11.,  9.,  0., 18.,\n",
       "        0.,  0., 12., 11.,  0.,  0.,  0.,  0., 12., 15.,  0.,  9., 11.,\n",
       "       13.,  0., 11.,  0., 11.,  0., 10.,  0., 14., 10.,  0., 12.,  8.,\n",
       "       13., 10., 15., 12.,  0.,  7.,  0., 10.,  7., 12., 10., 16.,  0.,\n",
       "       14.,  0., 16., 10.,  0.,  9.,  9., 11.,  6.,  9., 11.,  8., 12.,\n",
       "       17.,  8., 12., 11., 11., 15.,  9., 10., 13.,  9.,  8., 10., 14.,\n",
       "       15., 16., 10., 18., 10., 16., 10., 10.,  6., 11.,  9.,  7., 13.,\n",
       "       10.,  7.,  8., 13., 14.,  8., 10., 15.,  4.,  8.,  8., 10.,  6.,\n",
       "        0., 17., 13., 14.,  7., 15., 12.,  9., 12., 14., 11.,  9., 13.,\n",
       "        6., 10., 13., 12., 11.,  0., 12., 12.,  0., 12.,  0., 18., 13.,\n",
       "        8.,  5., 15.,  8., 10.,  8.,  8., 12.,  8., 13., 11., 14.,  0.,\n",
       "       18.,  8., 12.,  9.,  0., 17., 10., 11., 10.,  0.,  9., 14., 11.,\n",
       "       14., 10., 12.,  9.,  9.,  8., 10.,  8., 10., 12., 10., 11., 11.,\n",
       "       19., 12., 14., 15., 11., 15., 13., 18., 14., 11.,  0.,  8., 14.,\n",
       "       16., 11., 10., 14., 18., 13., 12., 18.,  8., 12., 10.,  0., 13.,\n",
       "       11., 11., 13., 11.,  0.,  9., 10., 11., 13.,  9., 11., 15., 15.,\n",
       "       11., 16., 10.,  9., 14.,  8., 14.,  0.,  0.,  0., 15., 13.,  0.,\n",
       "       17., 10., 11.,  0., 15.,  0., 10., 14., 16.,  9., 15., 13.,  8.,\n",
       "       13.,  8.,  8., 11.,  9., 13., 11., 10., 16., 13., 12., 10., 15.,\n",
       "       12., 10., 13.,  0., 10., 11.,  9., 12., 11.,  5., 19., 10., 15.,\n",
       "       10., 15., 10., 14.,  7., 10.,  0.,  5., 10.,  6.,  0.,  8.,  0.,\n",
       "        9., 16.,  7., 10.,  9.])"
      ]
     },
     "execution_count": 102,
     "metadata": {},
     "output_type": "execute_result"
    }
   ],
   "source": [
    "y"
   ]
  },
  {
   "cell_type": "code",
   "execution_count": 103,
   "id": "e8036ddc",
   "metadata": {},
   "outputs": [],
   "source": [
    "def normalize(x):\n",
    "    \"\"\"\n",
    "\n",
    "    Performs feature scaling in the range [0,1] by division of each feature by its maximum value.\n",
    "\n",
    "    Parameters:\n",
    "        x (ndarray): Training set (features of students)\n",
    "\n",
    "    Returns:\n",
    "        x (ndarray): Training set exposed to feature scaling (input to the model)\n",
    "    \"\"\"\n",
    "\n",
    "    x = x.astype('float64')\n",
    "    for column in range(x.shape[1]):\n",
    "        x[:, column] = x[:, column] / x[:, column].max()\n",
    "\n",
    "    return x"
   ]
  },
  {
   "cell_type": "code",
   "execution_count": 104,
   "id": "d8d59ddb",
   "metadata": {},
   "outputs": [
    {
     "data": {
      "text/plain": [
       "array([[0.        , 0.        , 0.81818182, ..., 0.        , 0.        ,\n",
       "        0.        ],\n",
       "       [0.        , 0.        , 0.77272727, ..., 0.        , 1.        ,\n",
       "        0.        ],\n",
       "       [0.        , 0.        , 0.68181818, ..., 0.        , 1.        ,\n",
       "        0.        ],\n",
       "       ...,\n",
       "       [1.        , 1.        , 0.95454545, ..., 0.        , 1.        ,\n",
       "        0.        ],\n",
       "       [1.        , 1.        , 0.81818182, ..., 0.        , 1.        ,\n",
       "        0.        ],\n",
       "       [1.        , 1.        , 0.86363636, ..., 0.        , 0.        ,\n",
       "        0.        ]])"
      ]
     },
     "execution_count": 104,
     "metadata": {},
     "output_type": "execute_result"
    }
   ],
   "source": [
    "x = normalize(x)\n",
    "x"
   ]
  },
  {
   "cell_type": "code",
   "execution_count": 105,
   "id": "39430946",
   "metadata": {},
   "outputs": [
    {
     "data": {
      "text/plain": [
       "numpy.ndarray"
      ]
     },
     "execution_count": 105,
     "metadata": {},
     "output_type": "execute_result"
    }
   ],
   "source": [
    "type(x)"
   ]
  },
  {
   "cell_type": "code",
   "execution_count": 106,
   "id": "5884179e",
   "metadata": {},
   "outputs": [],
   "source": [
    "x_train, x_test, y_train, y_test = train_test_split(x, y, train_size=0.7)"
   ]
  },
  {
   "cell_type": "code",
   "execution_count": 107,
   "id": "7a8ad1e6",
   "metadata": {},
   "outputs": [
    {
     "data": {
      "text/plain": [
       "array([[0.        , 0.        , 0.81818182, ..., 0.        , 1.        ,\n",
       "        0.        ],\n",
       "       [0.        , 0.        , 0.72727273, ..., 0.        , 1.        ,\n",
       "        0.        ],\n",
       "       [0.        , 1.        , 0.68181818, ..., 0.        , 1.        ,\n",
       "        0.        ],\n",
       "       ...,\n",
       "       [0.        , 1.        , 0.77272727, ..., 0.        , 0.        ,\n",
       "        1.        ],\n",
       "       [0.        , 1.        , 0.68181818, ..., 0.        , 1.        ,\n",
       "        0.        ],\n",
       "       [0.        , 0.        , 0.81818182, ..., 0.        , 1.        ,\n",
       "        0.        ]])"
      ]
     },
     "execution_count": 107,
     "metadata": {},
     "output_type": "execute_result"
    }
   ],
   "source": [
    "x_train"
   ]
  },
  {
   "cell_type": "code",
   "execution_count": 108,
   "id": "af3fdb6a",
   "metadata": {},
   "outputs": [
    {
     "data": {
      "text/plain": [
       "276"
      ]
     },
     "execution_count": 108,
     "metadata": {},
     "output_type": "execute_result"
    }
   ],
   "source": [
    "len(x_train)"
   ]
  },
  {
   "cell_type": "code",
   "execution_count": 109,
   "id": "018595d2",
   "metadata": {},
   "outputs": [
    {
     "data": {
      "text/plain": [
       "276"
      ]
     },
     "execution_count": 109,
     "metadata": {},
     "output_type": "execute_result"
    }
   ],
   "source": [
    "len(y_train)"
   ]
  },
  {
   "cell_type": "code",
   "execution_count": 110,
   "id": "f5a365cf",
   "metadata": {},
   "outputs": [],
   "source": [
    "# LinearRegression model\n",
    "model = LinearRegression()"
   ]
  },
  {
   "cell_type": "code",
   "execution_count": 111,
   "id": "b6c95f97",
   "metadata": {},
   "outputs": [
    {
     "data": {
      "text/plain": [
       "LinearRegression()"
      ]
     },
     "execution_count": 111,
     "metadata": {},
     "output_type": "execute_result"
    }
   ],
   "source": [
    "model.fit(x_train, y_train)"
   ]
  },
  {
   "cell_type": "code",
   "execution_count": 112,
   "id": "397a4908",
   "metadata": {},
   "outputs": [
    {
     "data": {
      "text/plain": [
       "2.898722645068043"
      ]
     },
     "execution_count": 112,
     "metadata": {},
     "output_type": "execute_result"
    }
   ],
   "source": [
    "\n",
    "r_sq = model.score(x_test, y_test)\n",
    "model.intercept_\n",
    "#model.coef_"
   ]
  },
  {
   "cell_type": "code",
   "execution_count": 113,
   "id": "45eddff0",
   "metadata": {},
   "outputs": [
    {
     "data": {
      "text/plain": [
       "0.8134038176438465"
      ]
     },
     "execution_count": 113,
     "metadata": {},
     "output_type": "execute_result"
    }
   ],
   "source": [
    "r_sq"
   ]
  },
  {
   "cell_type": "code",
   "execution_count": 114,
   "id": "d015c5d5",
   "metadata": {},
   "outputs": [],
   "source": [
    "def compute_model(x, y):\n",
    "    \"\"\"\n",
    "    \n",
    "    Computes a linear regression model using the LinearRegression class.\n",
    "    \n",
    "    Parameters:\n",
    "        x (ndarray): Shape (m,n) Input for the model\n",
    "        y (ndarray): Shape (m,) Output for the model\n",
    "        \n",
    "    Returns:\n",
    "        w (ndarray): Shape (n,) Fitted parameters of the model (coefficients)\n",
    "        b (scalar): Fitted parameter of the model (intercept)\n",
    "    \"\"\"\n",
    "    model = LinearRegression()\n",
    "    model.fit(x,y)\n",
    "    \n",
    "    w = model.coef_\n",
    "    b = model.intercept_\n",
    "    \n",
    "    return w, b\n",
    "    "
   ]
  },
  {
   "cell_type": "code",
   "execution_count": 115,
   "id": "b3db7d90",
   "metadata": {},
   "outputs": [
    {
     "data": {
      "text/plain": [
       "2.898722645068043"
      ]
     },
     "execution_count": 115,
     "metadata": {},
     "output_type": "execute_result"
    }
   ],
   "source": [
    "compute_model(x_train, y_train)[1]"
   ]
  },
  {
   "cell_type": "code",
   "execution_count": 117,
   "id": "febcdac9",
   "metadata": {},
   "outputs": [],
   "source": [
    "#data = data[[\"school\", \"sex\", \"age\", \"Mjob\", \"Fjob\", \"higher\", \"activities\", \"G1\", \"G2\", \"G3\"]]"
   ]
  },
  {
   "cell_type": "code",
   "execution_count": 1,
   "id": "a79654f9",
   "metadata": {},
   "outputs": [],
   "source": [
    "def new_student(x):\n",
    "    \"\"\"\n",
    "    \n",
    "    Creates an array of features for a new student. \n",
    "    \n",
    "    Parameters:\n",
    "        x (pandas dataframe): Shape(m,n) Training set to the model. Defines the features for a new student\n",
    "        \n",
    "    Returns:\n",
    "        new (pandas dataframe): \n",
    "    \"\"\"\n",
    "    \n",
    "    new_data = []\n",
    "    for column in x.columns:\n",
    "        if x[column].dtype == \"object\":\n",
    "            inp = input(\"Please write the \", column, \" of a student (\", x[column].unique(), \"): \")\n",
    "            while inp not in x[collumn].unique():\n",
    "                print(\"Invalid feature! Please try again!\")\n",
    "                inp = input(\"Please write the \", column, \" of a student (\", x[column].unique(), \"): \")\n",
    "        elif x[column].dtype == \"int64\":\n",
    "            #From 15 to 25\n",
    "            inp = int(input(\"Please write the \", column, \" of a student (from \", x[column].min(), \" to \", x[column].max(), \"): \"))\n",
    "            while inp < x[column].min() or inp > x[column].max():\n",
    "                print(\"Please try again!\")\n",
    "                inp = int(input(\"Please write the \", column, \" of a student (from \", x[column].min(), \" to \", x[column].max(), \"): \"))\n",
    "        \n",
    "        new_data.append(inp)\n",
    "        \n",
    "    new = pd.DataFrame(new_data, columns = x.columns)\n",
    "        \n",
    "    return new\n",
    "        \n",
    "    \n",
    "            \n",
    "            \n",
    "    \n",
    "    \n",
    "    \n",
    "    "
   ]
  },
  {
   "cell_type": "code",
   "execution_count": 129,
   "id": "746977c9",
   "metadata": {},
   "outputs": [
    {
     "name": "stdout",
     "output_type": "stream",
     "text": [
      "Hello  World\n"
     ]
    }
   ],
   "source": [
    "print(\"Hello \", \"World\")"
   ]
  },
  {
   "cell_type": "code",
   "execution_count": null,
   "id": "1142ba65",
   "metadata": {},
   "outputs": [],
   "source": [
    "def load_data(file_name):\n",
    "    \"\"\"\n",
    "    Loads the data from a student dataset file_name and extracts the columns \n",
    "    [\"school\", \"sex\", \"age\", \"Mjob\", \"Fjob\", \"higher\", \"activities\", \"G1\", \"G2\", \"G3\"], where the column \"G3\" is the output \n",
    "    of the model.\n",
    "\n",
    "    Parameters:\n",
    "        file_name (string): Path to a student dataset\n",
    "\n",
    "    Returns:\n",
    "        data (pandas dataframe): Extracted data (m - number of examples (rows), n - number of features (columns))\n",
    "    \"\"\"\n",
    "    # importing the dataset\n",
    "    data = pd.read_csv(file_name)\n",
    "\n",
    "    # Editing the raw dataset to get x and y\n",
    "    data = data[[\"school\", \"sex\", \"age\", \"Mjob\", \"Fjob\", \"higher\", \"activities\", \"G1\", \"G2\", \"G3\"]]\n",
    "    \n",
    "    return data\n",
    "\n",
    "def split_data(data):\n",
    "    \"\"\"\n",
    "    \n",
    "    Converts data to input x and output y of the model. \n",
    "    The input includes the features [\"school\", \"sex\", \"age\", \"Mjob\", \"Fjob\", \"higher\", \"activities\", \"G1\", \"G2\"].\n",
    "    The output contains the final grade \"G3\". \n",
    "    In order to perfrom linear regression, the function turns categoraical features into dummy matrices.\n",
    "    \n",
    "    Parameters:\n",
    "        data (pandas dataframe): Data to be splitted into the input x to the model and the output y of the model.\n",
    "        \n",
    "    Retruns:\n",
    "        x (pandas dataframe): Input to the model\n",
    "        y (pandas dataframe): Output of the model\n",
    "    \"\"\"\n",
    "\n",
    "    #Eliminating rows with NaN values\n",
    "    data = data.dropna()\n",
    "\n",
    "    # Turning categorical features into numbers\n",
    "    # Dummy matrices + Label Encoding\n",
    "    non_num = data.select_dtypes(include=\"object\")\n",
    "    encoder = LabelEncoder()\n",
    "    for column in non_num.columns:\n",
    "        if len(non_num[column].unique()) == 2:\n",
    "            data[column] = encoder.fit_transform(data[column])\n",
    "\n",
    "        else:\n",
    "            non_num[column] = non_num[column].apply(lambda x: column[0].lower() + \"_\" + x)\n",
    "            dummies = pd.get_dummies(non_num[column])\n",
    "            dummies = dummies.drop([dummies.columns[-1]], axis=1)\n",
    "            data = pd.concat([data, dummies], axis=1)\n",
    "            data = data.drop([column], axis=1)\n",
    "\n",
    "    # Extracting x_train and y_train from the table\n",
    "    x = data.drop([\"G3\"], axis=1)\n",
    "    y = data[\"G3\"]\n",
    "\n",
    "    return x, y"
   ]
  }
 ],
 "metadata": {
  "kernelspec": {
   "display_name": "Python 3 (ipykernel)",
   "language": "python",
   "name": "python3"
  },
  "language_info": {
   "codemirror_mode": {
    "name": "ipython",
    "version": 3
   },
   "file_extension": ".py",
   "mimetype": "text/x-python",
   "name": "python",
   "nbconvert_exporter": "python",
   "pygments_lexer": "ipython3",
   "version": "3.9.7"
  }
 },
 "nbformat": 4,
 "nbformat_minor": 5
}
