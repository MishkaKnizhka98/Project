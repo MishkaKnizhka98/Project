{
 "cells": [
  {
   "cell_type": "code",
   "execution_count": 4,
   "id": "584a7c24",
   "metadata": {},
   "outputs": [],
   "source": [
    "import pandas as pd\n",
    "import pytest\n",
    "from my_functions import *\n"
   ]
  },
  {
   "cell_type": "code",
   "execution_count": 7,
   "id": "d7cc5810",
   "metadata": {},
   "outputs": [],
   "source": [
    "x, y = load_data(\"test_data/test_load_data.csv\")"
   ]
  },
  {
   "cell_type": "code",
   "execution_count": 9,
   "id": "d6ca4e64",
   "metadata": {},
   "outputs": [
    {
     "data": {
      "text/html": [
       "<div>\n",
       "<style scoped>\n",
       "    .dataframe tbody tr th:only-of-type {\n",
       "        vertical-align: middle;\n",
       "    }\n",
       "\n",
       "    .dataframe tbody tr th {\n",
       "        vertical-align: top;\n",
       "    }\n",
       "\n",
       "    .dataframe thead th {\n",
       "        text-align: right;\n",
       "    }\n",
       "</style>\n",
       "<table border=\"1\" class=\"dataframe\">\n",
       "  <thead>\n",
       "    <tr style=\"text-align: right;\">\n",
       "      <th></th>\n",
       "      <th>school</th>\n",
       "      <th>sex</th>\n",
       "      <th>age</th>\n",
       "      <th>Mjob</th>\n",
       "      <th>Fjob</th>\n",
       "      <th>higher</th>\n",
       "      <th>activities</th>\n",
       "      <th>G1</th>\n",
       "      <th>G2</th>\n",
       "    </tr>\n",
       "  </thead>\n",
       "  <tbody>\n",
       "    <tr>\n",
       "      <th>0</th>\n",
       "      <td>Moscow</td>\n",
       "      <td>F</td>\n",
       "      <td>18</td>\n",
       "      <td>teacher</td>\n",
       "      <td>services</td>\n",
       "      <td>no</td>\n",
       "      <td>no</td>\n",
       "      <td>15</td>\n",
       "      <td>13</td>\n",
       "    </tr>\n",
       "    <tr>\n",
       "      <th>1</th>\n",
       "      <td>Moscow</td>\n",
       "      <td>M</td>\n",
       "      <td>20</td>\n",
       "      <td>teacher</td>\n",
       "      <td>other</td>\n",
       "      <td>yes</td>\n",
       "      <td>no</td>\n",
       "      <td>13</td>\n",
       "      <td>6</td>\n",
       "    </tr>\n",
       "    <tr>\n",
       "      <th>2</th>\n",
       "      <td>S.-Petersburg</td>\n",
       "      <td>F</td>\n",
       "      <td>22</td>\n",
       "      <td>at_home</td>\n",
       "      <td>health</td>\n",
       "      <td>no</td>\n",
       "      <td>yes</td>\n",
       "      <td>20</td>\n",
       "      <td>5</td>\n",
       "    </tr>\n",
       "    <tr>\n",
       "      <th>3</th>\n",
       "      <td>S.-Petersburg</td>\n",
       "      <td>F</td>\n",
       "      <td>24</td>\n",
       "      <td>services</td>\n",
       "      <td>teacher</td>\n",
       "      <td>yes</td>\n",
       "      <td>yes</td>\n",
       "      <td>19</td>\n",
       "      <td>5</td>\n",
       "    </tr>\n",
       "    <tr>\n",
       "      <th>4</th>\n",
       "      <td>Zelenograd</td>\n",
       "      <td>M</td>\n",
       "      <td>18</td>\n",
       "      <td>health</td>\n",
       "      <td>other</td>\n",
       "      <td>yes</td>\n",
       "      <td>no</td>\n",
       "      <td>11</td>\n",
       "      <td>14</td>\n",
       "    </tr>\n",
       "    <tr>\n",
       "      <th>5</th>\n",
       "      <td>Zelenograd</td>\n",
       "      <td>F</td>\n",
       "      <td>20</td>\n",
       "      <td>other</td>\n",
       "      <td>services</td>\n",
       "      <td>yes</td>\n",
       "      <td>yes</td>\n",
       "      <td>15</td>\n",
       "      <td>17</td>\n",
       "    </tr>\n",
       "  </tbody>\n",
       "</table>\n",
       "</div>"
      ],
      "text/plain": [
       "          school sex  age      Mjob      Fjob higher activities  G1  G2\n",
       "0         Moscow   F   18   teacher  services     no         no  15  13\n",
       "1         Moscow   M   20   teacher     other    yes         no  13   6\n",
       "2  S.-Petersburg   F   22   at_home    health     no        yes  20   5\n",
       "3  S.-Petersburg   F   24  services   teacher    yes        yes  19   5\n",
       "4     Zelenograd   M   18    health     other    yes         no  11  14\n",
       "5     Zelenograd   F   20     other  services    yes        yes  15  17"
      ]
     },
     "execution_count": 9,
     "metadata": {},
     "output_type": "execute_result"
    }
   ],
   "source": [
    "x"
   ]
  },
  {
   "cell_type": "code",
   "execution_count": 18,
   "id": "f17f743c",
   "metadata": {
    "scrolled": true
   },
   "outputs": [
    {
     "data": {
      "text/plain": [
       "'teacher'"
      ]
     },
     "execution_count": 18,
     "metadata": {},
     "output_type": "execute_result"
    }
   ],
   "source": [
    "y\n",
    "x[\"Fjob\"].iloc[3]"
   ]
  },
  {
   "cell_type": "code",
   "execution_count": 19,
   "id": "f21a54b6",
   "metadata": {},
   "outputs": [],
   "source": [
    "def test_data_load():\n",
    "    x, y = load_data(\"test_data/test_load_data.csv\")\n",
    "    assert y[3] == 15\n",
    "    assert x[\"Fjob\"].iloc[3] == \"teacher\""
   ]
  },
  {
   "cell_type": "code",
   "execution_count": null,
   "id": "0a02ed7e",
   "metadata": {},
   "outputs": [],
   "source": []
  }
 ],
 "metadata": {
  "kernelspec": {
   "display_name": "Python 3 (ipykernel)",
   "language": "python",
   "name": "python3"
  },
  "language_info": {
   "codemirror_mode": {
    "name": "ipython",
    "version": 3
   },
   "file_extension": ".py",
   "mimetype": "text/x-python",
   "name": "python",
   "nbconvert_exporter": "python",
   "pygments_lexer": "ipython3",
   "version": "3.9.7"
  }
 },
 "nbformat": 4,
 "nbformat_minor": 5
}
