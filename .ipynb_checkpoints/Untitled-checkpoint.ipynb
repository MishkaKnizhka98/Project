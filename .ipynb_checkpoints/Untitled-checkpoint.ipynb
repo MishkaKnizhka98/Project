{
 "cells": [
  {
   "cell_type": "code",
   "execution_count": 1,
   "id": "98720cbf",
   "metadata": {},
   "outputs": [],
   "source": [
    "from my_functions import *\n",
    "import pandas as pd\n",
    "import numpy as np\n",
    "from sklearn.linear_model import LinearRegression\n",
    "from sklearn.model_selection import train_test_split\n",
    "import matplotlib.pyplot as plt"
   ]
  },
  {
   "cell_type": "code",
   "execution_count": 2,
   "id": "f36effd5",
   "metadata": {},
   "outputs": [],
   "source": [
    "x, y = load_data(\"data/student-mat.csv\")\n"
   ]
  },
  {
   "cell_type": "code",
   "execution_count": 3,
   "id": "c9147fd0",
   "metadata": {},
   "outputs": [
    {
     "name": "stdout",
     "output_type": "stream",
     "text": [
      "Please write the school of a student (['GP' 'MS']): GP\n",
      "Please write the sex of a student (['F' 'M']): M\n",
      "Please write the age of a student (from 15 to 25): 25\n",
      "Please write the Mjob of a student (['at_home' 'health' 'other' 'services' 'teacher']): at_home\n",
      "Please write the Fjob of a student (['teacher' 'other' 'services' 'health' 'at_home']): services\n",
      "Please write the higher of a student (['yes' 'no']): yes\n",
      "Please write the activities of a student (['no' 'yes']): yes\n",
      "Please write the G1 of a student (from 0 to 20): 20\n",
      "Please write the G2 of a student (from 0 to 20): 20\n"
     ]
    }
   ],
   "source": [
    "lorenzo = new_student(x)"
   ]
  },
  {
   "cell_type": "code",
   "execution_count": 4,
   "id": "11ebf089",
   "metadata": {},
   "outputs": [
    {
     "name": "stderr",
     "output_type": "stream",
     "text": [
      "C:\\Users\\Admin\\Desktop\\Project\\my_functions.py:61: SettingWithCopyWarning: \n",
      "A value is trying to be set on a copy of a slice from a DataFrame.\n",
      "Try using .loc[row_indexer,col_indexer] = value instead\n",
      "\n",
      "See the caveats in the documentation: https://pandas.pydata.org/pandas-docs/stable/user_guide/indexing.html#returning-a-view-versus-a-copy\n",
      "  non_num[column] = non_num[column].apply(lambda x: column[0].lower() + \"_\" + x)\n"
     ]
    },
    {
     "data": {
      "text/html": [
       "<div>\n",
       "<style scoped>\n",
       "    .dataframe tbody tr th:only-of-type {\n",
       "        vertical-align: middle;\n",
       "    }\n",
       "\n",
       "    .dataframe tbody tr th {\n",
       "        vertical-align: top;\n",
       "    }\n",
       "\n",
       "    .dataframe thead th {\n",
       "        text-align: right;\n",
       "    }\n",
       "</style>\n",
       "<table border=\"1\" class=\"dataframe\">\n",
       "  <thead>\n",
       "    <tr style=\"text-align: right;\">\n",
       "      <th></th>\n",
       "      <th>school</th>\n",
       "      <th>sex</th>\n",
       "      <th>age</th>\n",
       "      <th>higher</th>\n",
       "      <th>activities</th>\n",
       "      <th>G1</th>\n",
       "      <th>G2</th>\n",
       "      <th>m_at_home</th>\n",
       "      <th>m_health</th>\n",
       "      <th>m_other</th>\n",
       "      <th>m_services</th>\n",
       "      <th>m_teacher</th>\n",
       "      <th>f_at_home</th>\n",
       "      <th>f_health</th>\n",
       "      <th>f_other</th>\n",
       "      <th>f_services</th>\n",
       "      <th>f_teacher</th>\n",
       "    </tr>\n",
       "  </thead>\n",
       "  <tbody>\n",
       "    <tr>\n",
       "      <th>0</th>\n",
       "      <td>0</td>\n",
       "      <td>0</td>\n",
       "      <td>18</td>\n",
       "      <td>1</td>\n",
       "      <td>0</td>\n",
       "      <td>5</td>\n",
       "      <td>6</td>\n",
       "      <td>1</td>\n",
       "      <td>0</td>\n",
       "      <td>0</td>\n",
       "      <td>0</td>\n",
       "      <td>0</td>\n",
       "      <td>0</td>\n",
       "      <td>0</td>\n",
       "      <td>0</td>\n",
       "      <td>0</td>\n",
       "      <td>1</td>\n",
       "    </tr>\n",
       "    <tr>\n",
       "      <th>1</th>\n",
       "      <td>0</td>\n",
       "      <td>0</td>\n",
       "      <td>17</td>\n",
       "      <td>1</td>\n",
       "      <td>0</td>\n",
       "      <td>5</td>\n",
       "      <td>5</td>\n",
       "      <td>1</td>\n",
       "      <td>0</td>\n",
       "      <td>0</td>\n",
       "      <td>0</td>\n",
       "      <td>0</td>\n",
       "      <td>0</td>\n",
       "      <td>0</td>\n",
       "      <td>1</td>\n",
       "      <td>0</td>\n",
       "      <td>0</td>\n",
       "    </tr>\n",
       "    <tr>\n",
       "      <th>2</th>\n",
       "      <td>0</td>\n",
       "      <td>0</td>\n",
       "      <td>15</td>\n",
       "      <td>1</td>\n",
       "      <td>0</td>\n",
       "      <td>7</td>\n",
       "      <td>8</td>\n",
       "      <td>1</td>\n",
       "      <td>0</td>\n",
       "      <td>0</td>\n",
       "      <td>0</td>\n",
       "      <td>0</td>\n",
       "      <td>0</td>\n",
       "      <td>0</td>\n",
       "      <td>1</td>\n",
       "      <td>0</td>\n",
       "      <td>0</td>\n",
       "    </tr>\n",
       "    <tr>\n",
       "      <th>3</th>\n",
       "      <td>0</td>\n",
       "      <td>0</td>\n",
       "      <td>15</td>\n",
       "      <td>1</td>\n",
       "      <td>1</td>\n",
       "      <td>15</td>\n",
       "      <td>14</td>\n",
       "      <td>0</td>\n",
       "      <td>1</td>\n",
       "      <td>0</td>\n",
       "      <td>0</td>\n",
       "      <td>0</td>\n",
       "      <td>0</td>\n",
       "      <td>0</td>\n",
       "      <td>0</td>\n",
       "      <td>1</td>\n",
       "      <td>0</td>\n",
       "    </tr>\n",
       "    <tr>\n",
       "      <th>4</th>\n",
       "      <td>0</td>\n",
       "      <td>0</td>\n",
       "      <td>16</td>\n",
       "      <td>1</td>\n",
       "      <td>0</td>\n",
       "      <td>6</td>\n",
       "      <td>10</td>\n",
       "      <td>0</td>\n",
       "      <td>0</td>\n",
       "      <td>1</td>\n",
       "      <td>0</td>\n",
       "      <td>0</td>\n",
       "      <td>0</td>\n",
       "      <td>0</td>\n",
       "      <td>1</td>\n",
       "      <td>0</td>\n",
       "      <td>0</td>\n",
       "    </tr>\n",
       "    <tr>\n",
       "      <th>...</th>\n",
       "      <td>...</td>\n",
       "      <td>...</td>\n",
       "      <td>...</td>\n",
       "      <td>...</td>\n",
       "      <td>...</td>\n",
       "      <td>...</td>\n",
       "      <td>...</td>\n",
       "      <td>...</td>\n",
       "      <td>...</td>\n",
       "      <td>...</td>\n",
       "      <td>...</td>\n",
       "      <td>...</td>\n",
       "      <td>...</td>\n",
       "      <td>...</td>\n",
       "      <td>...</td>\n",
       "      <td>...</td>\n",
       "      <td>...</td>\n",
       "    </tr>\n",
       "    <tr>\n",
       "      <th>390</th>\n",
       "      <td>1</td>\n",
       "      <td>1</td>\n",
       "      <td>20</td>\n",
       "      <td>1</td>\n",
       "      <td>0</td>\n",
       "      <td>9</td>\n",
       "      <td>9</td>\n",
       "      <td>0</td>\n",
       "      <td>0</td>\n",
       "      <td>0</td>\n",
       "      <td>1</td>\n",
       "      <td>0</td>\n",
       "      <td>0</td>\n",
       "      <td>0</td>\n",
       "      <td>0</td>\n",
       "      <td>1</td>\n",
       "      <td>0</td>\n",
       "    </tr>\n",
       "    <tr>\n",
       "      <th>391</th>\n",
       "      <td>1</td>\n",
       "      <td>1</td>\n",
       "      <td>17</td>\n",
       "      <td>1</td>\n",
       "      <td>0</td>\n",
       "      <td>14</td>\n",
       "      <td>16</td>\n",
       "      <td>0</td>\n",
       "      <td>0</td>\n",
       "      <td>0</td>\n",
       "      <td>1</td>\n",
       "      <td>0</td>\n",
       "      <td>0</td>\n",
       "      <td>0</td>\n",
       "      <td>0</td>\n",
       "      <td>1</td>\n",
       "      <td>0</td>\n",
       "    </tr>\n",
       "    <tr>\n",
       "      <th>392</th>\n",
       "      <td>1</td>\n",
       "      <td>1</td>\n",
       "      <td>21</td>\n",
       "      <td>1</td>\n",
       "      <td>0</td>\n",
       "      <td>10</td>\n",
       "      <td>8</td>\n",
       "      <td>0</td>\n",
       "      <td>0</td>\n",
       "      <td>1</td>\n",
       "      <td>0</td>\n",
       "      <td>0</td>\n",
       "      <td>0</td>\n",
       "      <td>0</td>\n",
       "      <td>1</td>\n",
       "      <td>0</td>\n",
       "      <td>0</td>\n",
       "    </tr>\n",
       "    <tr>\n",
       "      <th>393</th>\n",
       "      <td>1</td>\n",
       "      <td>1</td>\n",
       "      <td>18</td>\n",
       "      <td>1</td>\n",
       "      <td>0</td>\n",
       "      <td>11</td>\n",
       "      <td>12</td>\n",
       "      <td>0</td>\n",
       "      <td>0</td>\n",
       "      <td>0</td>\n",
       "      <td>1</td>\n",
       "      <td>0</td>\n",
       "      <td>0</td>\n",
       "      <td>0</td>\n",
       "      <td>1</td>\n",
       "      <td>0</td>\n",
       "      <td>0</td>\n",
       "    </tr>\n",
       "    <tr>\n",
       "      <th>394</th>\n",
       "      <td>1</td>\n",
       "      <td>1</td>\n",
       "      <td>19</td>\n",
       "      <td>1</td>\n",
       "      <td>0</td>\n",
       "      <td>8</td>\n",
       "      <td>9</td>\n",
       "      <td>0</td>\n",
       "      <td>0</td>\n",
       "      <td>1</td>\n",
       "      <td>0</td>\n",
       "      <td>0</td>\n",
       "      <td>1</td>\n",
       "      <td>0</td>\n",
       "      <td>0</td>\n",
       "      <td>0</td>\n",
       "      <td>0</td>\n",
       "    </tr>\n",
       "  </tbody>\n",
       "</table>\n",
       "<p>395 rows × 17 columns</p>\n",
       "</div>"
      ],
      "text/plain": [
       "     school  sex  age  higher  activities  G1  G2  m_at_home  m_health  \\\n",
       "0         0    0   18       1           0   5   6          1         0   \n",
       "1         0    0   17       1           0   5   5          1         0   \n",
       "2         0    0   15       1           0   7   8          1         0   \n",
       "3         0    0   15       1           1  15  14          0         1   \n",
       "4         0    0   16       1           0   6  10          0         0   \n",
       "..      ...  ...  ...     ...         ...  ..  ..        ...       ...   \n",
       "390       1    1   20       1           0   9   9          0         0   \n",
       "391       1    1   17       1           0  14  16          0         0   \n",
       "392       1    1   21       1           0  10   8          0         0   \n",
       "393       1    1   18       1           0  11  12          0         0   \n",
       "394       1    1   19       1           0   8   9          0         0   \n",
       "\n",
       "     m_other  m_services  m_teacher  f_at_home  f_health  f_other  f_services  \\\n",
       "0          0           0          0          0         0        0           0   \n",
       "1          0           0          0          0         0        1           0   \n",
       "2          0           0          0          0         0        1           0   \n",
       "3          0           0          0          0         0        0           1   \n",
       "4          1           0          0          0         0        1           0   \n",
       "..       ...         ...        ...        ...       ...      ...         ...   \n",
       "390        0           1          0          0         0        0           1   \n",
       "391        0           1          0          0         0        0           1   \n",
       "392        1           0          0          0         0        1           0   \n",
       "393        0           1          0          0         0        1           0   \n",
       "394        1           0          0          1         0        0           0   \n",
       "\n",
       "     f_teacher  \n",
       "0            1  \n",
       "1            0  \n",
       "2            0  \n",
       "3            0  \n",
       "4            0  \n",
       "..         ...  \n",
       "390          0  \n",
       "391          0  \n",
       "392          0  \n",
       "393          0  \n",
       "394          0  \n",
       "\n",
       "[395 rows x 17 columns]"
      ]
     },
     "execution_count": 4,
     "metadata": {},
     "output_type": "execute_result"
    }
   ],
   "source": [
    "lorenzo = dummy_matrix_of_new_student(lorenzo, x)\n",
    "x = dummy_matrices(x)\n",
    "x"
   ]
  },
  {
   "cell_type": "code",
   "execution_count": 5,
   "id": "157e10d3",
   "metadata": {},
   "outputs": [],
   "source": [
    "w_pred, b_pred, r_sq = compute_model(x, y)"
   ]
  },
  {
   "cell_type": "code",
   "execution_count": 6,
   "id": "87c6b964",
   "metadata": {},
   "outputs": [
    {
     "name": "stdout",
     "output_type": "stream",
     "text": [
      "Predicted w:  [ 0.23959396  0.20649097 -0.15396436  0.2581189  -0.32494979  0.16736348\n",
      "  0.96808236 -0.08332784 -0.14542021  0.01303077  0.14178294  0.07393435\n",
      " -0.19616745  0.43599757  0.13794714 -0.2550828  -0.12269446] \n",
      " \n",
      " Predicted b:  0.5502050075699465 \n",
      " \n",
      " Coefficient of determination:  0.8277567768920325\n"
     ]
    }
   ],
   "source": [
    "print(\"Predicted w: \", w_pred, \"\\n\", \"\\n\", \"Predicted b: \", b_pred, \"\\n\", \"\\n\", \"Coefficient of determination: \", r_sq)"
   ]
  },
  {
   "cell_type": "code",
   "execution_count": 7,
   "id": "99e883dc",
   "metadata": {},
   "outputs": [
    {
     "data": {
      "text/plain": [
       "school         0\n",
       "sex            1\n",
       "age           25\n",
       "higher         1\n",
       "activities     1\n",
       "G1            20\n",
       "G2            20\n",
       "m_at_home      1\n",
       "m_health       0\n",
       "m_other        0\n",
       "m_services     0\n",
       "m_teacher      0\n",
       "f_at_home      0\n",
       "f_health       0\n",
       "f_other        0\n",
       "f_services     1\n",
       "f_teacher      0\n",
       "Name: 0, dtype: int64"
      ]
     },
     "execution_count": 7,
     "metadata": {},
     "output_type": "execute_result"
    }
   ],
   "source": [
    "\n",
    "lorenzo"
   ]
  },
  {
   "cell_type": "code",
   "execution_count": 8,
   "id": "f4752240",
   "metadata": {},
   "outputs": [
    {
     "data": {
      "text/plain": [
       "19.211262360541426"
      ]
     },
     "execution_count": 8,
     "metadata": {},
     "output_type": "execute_result"
    }
   ],
   "source": [
    "lorenzo_grade = predict(lorenzo, w_pred, b_pred)\n",
    "lorenzo_grade"
   ]
  },
  {
   "cell_type": "code",
   "execution_count": 11,
   "id": "1a6083ab",
   "metadata": {},
   "outputs": [
    {
     "data": {
      "image/png": "[encoded data removed]",
      "text/plain": [
       "<Figure size 432x288 with 1 Axes>"
      ]
     },
     "metadata": {
      "needs_background": "light"
     },
     "output_type": "display_data"
    }
   ],
   "source": [
    "plt.scatter(x[\"G1\"], y, c = \"r\", marker = \"x\")\n",
    "plt.ylabel(\"G3\")\n",
    "plt.xlabel(\"G1\")\n",
    "plt.show()"
   ]
  },
  {
   "cell_type": "code",
   "execution_count": 21,
   "id": "9bc3049f",
   "metadata": {},
   "outputs": [
    {
     "data": {
      "text/plain": [
       "school         0\n",
       "sex            0\n",
       "age           18\n",
       "higher         1\n",
       "activities     0\n",
       "G1             5\n",
       "G2             6\n",
       "m_at_home      1\n",
       "m_health       0\n",
       "m_other        0\n",
       "m_services     0\n",
       "m_teacher      0\n",
       "f_at_home      0\n",
       "f_health       0\n",
       "f_other        0\n",
       "f_services     0\n",
       "f_teacher      1\n",
       "Name: 0, dtype: int64"
      ]
     },
     "execution_count": 21,
     "metadata": {},
     "output_type": "execute_result"
    }
   ],
   "source": [
    "m = x.shape[0]\n",
    "x.iloc[0]"
   ]
  },
  {
   "cell_type": "code",
   "execution_count": 22,
   "id": "9cbb2346",
   "metadata": {},
   "outputs": [],
   "source": [
    "predicted = np.zeros(m)\n",
    "for i in range(m):\n",
    "    predicted[i] = np.dot(w_pred, x.iloc[i]) + b_pred"
   ]
  },
  {
   "cell_type": "code",
   "execution_count": 24,
   "id": "6ababf3c",
   "metadata": {},
   "outputs": [
    {
     "data": {
      "image/png": "[encoded data removed]",
      "text/plain": [
       "<Figure size 432x288 with 1 Axes>"
      ]
     },
     "metadata": {
      "needs_background": "light"
     },
     "output_type": "display_data"
    }
   ],
   "source": [
    "plt.scatter(x[\"G1\"], predicted, c = \"b\")\n",
    "plt.ylabel(\"G3 (predicted)\")\n",
    "plt.xlabel(\"G1\")\n",
    "plt.show()"
   ]
  },
  {
   "cell_type": "code",
   "execution_count": 25,
   "id": "fc4109d7",
   "metadata": {},
   "outputs": [
    {
     "data": {
      "image/png": "[encoded data removed]",
      "text/plain": [
       "<Figure size 432x288 with 1 Axes>"
      ]
     },
     "metadata": {
      "needs_background": "light"
     },
     "output_type": "display_data"
    }
   ],
   "source": [
    "plt.scatter(x[\"G1\"], y, c = \"r\", marker = \"x\")\n",
    "plt.scatter(x[\"G1\"], predicted, c = \"b\")\n",
    "plt.ylabel(\"G3 (predicted)\")\n",
    "plt.ylabel(\"G3\")\n",
    "plt.xlabel(\"G1\")\n",
    "plt.show()"
   ]
  },
  {
   "cell_type": "code",
   "execution_count": null,
   "id": "d785e0d4",
   "metadata": {},
   "outputs": [],
   "source": []
  }
 ],
 "metadata": {
  "kernelspec": {
   "display_name": "Python 3 (ipykernel)",
   "language": "python",
   "name": "python3"
  },
  "language_info": {
   "codemirror_mode": {
    "name": "ipython",
    "version": 3
   },
   "file_extension": ".py",
   "mimetype": "text/x-python",
   "name": "python",
   "nbconvert_exporter": "python",
   "pygments_lexer": "ipython3",
   "version": "3.9.7"
  }
 },
 "nbformat": 4,
 "nbformat_minor": 5
}
